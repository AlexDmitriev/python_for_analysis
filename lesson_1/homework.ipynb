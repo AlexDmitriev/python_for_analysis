{
 "cells": [
  {
   "cell_type": "markdown",
   "id": "55683bda-e73d-4415-83b4-55bd37a2d45f",
   "metadata": {},
   "source": [
    "## Домашнее задание"
   ]
  },
  {
   "cell_type": "markdown",
   "id": "c7870c7f-d2da-42e8-b8ea-56e654890ff4",
   "metadata": {},
   "source": [
    "### 2. Фрукты"
   ]
  },
  {
   "cell_type": "code",
   "execution_count": 1,
   "id": "6e74161b-124b-4084-b68b-551f6fdd1560",
   "metadata": {},
   "outputs": [],
   "source": [
    "dataSet = [{'name': 'Apple', 'total': 3}, {'name': 'Orange', 'total': 2}, {'name': 'Lime', 'total': 4}]"
   ]
  },
  {
   "cell_type": "code",
   "execution_count": 8,
   "id": "dfa89266-bef6-4c51-b9b6-0ea545a77733",
   "metadata": {},
   "outputs": [
    {
     "data": {
      "text/plain": [
       "[{'name': 'Apple', 'total': 3},\n",
       " {'name': 'Orange', 'total': 2},\n",
       " {'name': 'Lime', 'total': 4}]"
      ]
     },
     "execution_count": 8,
     "metadata": {},
     "output_type": "execute_result"
    }
   ],
   "source": [
    "dataSet"
   ]
  },
  {
   "cell_type": "code",
   "execution_count": 15,
   "id": "1bdde412-9e92-49ca-9571-105733ece294",
   "metadata": {},
   "outputs": [],
   "source": [
    "def count_fruits(dataSet):\n",
    "    totalCount = 0\n",
    "    for fruit in dataSet:\n",
    "        totalCount += fruit.get('total', 0)\n",
    "    return totalCount"
   ]
  },
  {
   "cell_type": "code",
   "execution_count": 16,
   "id": "9512a429-87c8-4bb1-bfe5-80c0666be34b",
   "metadata": {},
   "outputs": [
    {
     "data": {
      "text/plain": [
       "9"
      ]
     },
     "execution_count": 16,
     "metadata": {},
     "output_type": "execute_result"
    }
   ],
   "source": [
    "count_fruits(dataSet)"
   ]
  },
  {
   "cell_type": "markdown",
   "id": "644dda52-5771-40fc-97f8-c8c1183c1b10",
   "metadata": {},
   "source": [
    "### 3. Сумма затрат на рекламу"
   ]
  },
  {
   "cell_type": "code",
   "execution_count": 35,
   "id": "9ff34953-8ce9-4420-a300-a9504cadb45f",
   "metadata": {},
   "outputs": [],
   "source": [
    "expences = [100, 125, -90, 345, 655, -1, 0, 200]"
   ]
  },
  {
   "cell_type": "code",
   "execution_count": 36,
   "id": "e6314082-ee0a-4d61-ad45-fa51fbd3c78a",
   "metadata": {},
   "outputs": [],
   "source": [
    "positive = [x for x in expences if x >= 0]"
   ]
  },
  {
   "cell_type": "code",
   "execution_count": 37,
   "id": "449d4267-3ba8-4f27-b5ef-8f1b6f8dd2d8",
   "metadata": {},
   "outputs": [
    {
     "data": {
      "text/plain": [
       "1334"
      ]
     },
     "execution_count": 37,
     "metadata": {},
     "output_type": "execute_result"
    }
   ],
   "source": [
    "sum(expences)"
   ]
  },
  {
   "cell_type": "code",
   "execution_count": 30,
   "id": "9225e99c-e172-48ac-a625-b33eedad6e9d",
   "metadata": {},
   "outputs": [
    {
     "data": {
      "text/plain": [
       "1425"
      ]
     },
     "execution_count": 30,
     "metadata": {},
     "output_type": "execute_result"
    }
   ],
   "source": [
    "sum(positive)"
   ]
  },
  {
   "cell_type": "markdown",
   "id": "e98d2850-eeb2-4af6-994f-94fe27f2cd5e",
   "metadata": {},
   "source": [
    "### 4. Выручка компании"
   ]
  },
  {
   "cell_type": "code",
   "execution_count": 39,
   "id": "8bed12e8-a5be-4917-8dbe-1e86d244adb7",
   "metadata": {},
   "outputs": [],
   "source": [
    "from datetime import datetime"
   ]
  },
  {
   "cell_type": "code",
   "execution_count": 40,
   "id": "ba84fe0c-d2fa-4f29-9053-861cada14abb",
   "metadata": {},
   "outputs": [],
   "source": [
    "purchseDates = ['2021-09-14', '2021-12-15', '2021-09-08', '2021-12-05', '2021-10-09', '2021-09-30', '2021-12-22', '2021-11-29', '2021-12-24', '2021-11-26', '2021-10-27', '2021-12-18', '2021-11-09', '2021-11-23', '2021-09-27',\n",
    "'2021-10-02', '2021-12-27', '2021-09-20', '2021-12-13', '2021-11-01', '2021-11-09', '2021-12-06', '2021-12-08', '2021-10-09', '2021-10-31', '2021-09-30', '2021-11-09', '2021-12-13', '2021-10-26', '2021-12-09']"
   ]
  },
  {
   "cell_type": "code",
   "execution_count": 41,
   "id": "01843747-bc31-46b1-b04d-ac508b07d2a6",
   "metadata": {},
   "outputs": [],
   "source": [
    "pruchaseAmounts = [1270, 8413, 9028, 3703, 5739, 4095, 295, 4944, 5723, 3701, 4471, 651, 7037, 4274, 6275, 4988, 6930, 2971, 6592, 2004, 2822, 519, 3406, 2732, 5015, 2008, 316, 6333, 5700, 2887]"
   ]
  },
  {
   "cell_type": "markdown",
   "id": "2046e2ed-0628-43f2-9506-db018743237b",
   "metadata": {},
   "source": [
    "#### 4.1 Найдите, какая выручка у компании в ноябре"
   ]
  },
  {
   "cell_type": "code",
   "execution_count": 57,
   "id": "dad87a44-177b-4cfc-8608-4a0107ec04e1",
   "metadata": {},
   "outputs": [],
   "source": [
    "def calculate(dates, amounts, month = 11) -> int: \n",
    "    sum = 0\n",
    "    for i in range(len(dates)):\n",
    "        date = datetime.strptime(dates[i], '%Y-%m-%d')\n",
    "        if (date.month == month):\n",
    "            sum += amounts[i]\n",
    "        \n",
    "    return sum"
   ]
  },
  {
   "cell_type": "code",
   "execution_count": 59,
   "id": "a8dd6e38-6bcf-4768-84a8-5c85f7c00025",
   "metadata": {},
   "outputs": [
    {
     "name": "stdout",
     "output_type": "stream",
     "text": [
      "25098\n"
     ]
    }
   ],
   "source": [
    "print(calculate(purchseDates, pruchaseAmounts, 11))"
   ]
  },
  {
   "cell_type": "markdown",
   "id": "fecbfa9b-52e7-48dd-8963-9c781ea81669",
   "metadata": {},
   "source": [
    "#### 4.2 Найдите выручку компании в зависимости от месяца"
   ]
  },
  {
   "cell_type": "code",
   "execution_count": 82,
   "id": "9b67c6a6-2efc-470f-9923-b1fd089b0a97",
   "metadata": {},
   "outputs": [],
   "source": [
    "def calculateByDates(dates, amounts) -> dict: \n",
    "    calcDates = {}\n",
    "    for i in range(len(dates)):\n",
    "        date = datetime.strptime(dates[i], '%Y-%m-%d')\n",
    "        \n",
    "        if date.month in calcDates:\n",
    "            calcDates[date.month] += amounts[i]\n",
    "        else: \n",
    "            calcDates[date.month] = amounts[i]\n",
    "            \n",
    "    return dict(sorted(calcDates.items()))"
   ]
  },
  {
   "cell_type": "code",
   "execution_count": 83,
   "id": "cf7e430b-3e2c-4322-b46e-79f6141cdce4",
   "metadata": {},
   "outputs": [
    {
     "data": {
      "text/plain": [
       "{9: 25647, 10: 28645, 11: 25098, 12: 45452}"
      ]
     },
     "execution_count": 83,
     "metadata": {},
     "output_type": "execute_result"
    }
   ],
   "source": [
    "calculateByDates(purchseDates, pruchaseAmounts)"
   ]
  },
  {
   "cell_type": "code",
   "execution_count": null,
   "id": "a428a8b7-d8fa-4e5b-a483-03ed85db0ebf",
   "metadata": {},
   "outputs": [],
   "source": []
  }
 ],
 "metadata": {
  "kernelspec": {
   "display_name": "Python 3 (ipykernel)",
   "language": "python",
   "name": "python3"
  },
  "language_info": {
   "codemirror_mode": {
    "name": "ipython",
    "version": 3
   },
   "file_extension": ".py",
   "mimetype": "text/x-python",
   "name": "python",
   "nbconvert_exporter": "python",
   "pygments_lexer": "ipython3",
   "version": "3.10.12"
  }
 },
 "nbformat": 4,
 "nbformat_minor": 5
}
