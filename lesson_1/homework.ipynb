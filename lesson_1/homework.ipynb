{
 "cells": [
  {
   "cell_type": "markdown",
   "id": "55683bda-e73d-4415-83b4-55bd37a2d45f",
   "metadata": {},
   "source": [
    "## Домашнее задание"
   ]
  },
  {
   "cell_type": "markdown",
   "id": "c7870c7f-d2da-42e8-b8ea-56e654890ff4",
   "metadata": {},
   "source": [
    "### 2. Фрукты"
   ]
  },
  {
   "cell_type": "code",
   "execution_count": 1,
   "id": "6e74161b-124b-4084-b68b-551f6fdd1560",
   "metadata": {},
   "outputs": [],
   "source": [
    "dataSet = [{'name': 'Apple', 'total': 3}, {'name': 'Orange', 'total': 2}, {'name': 'Lime', 'total': 4}]"
   ]
  },
  {
   "cell_type": "code",
   "execution_count": 8,
   "id": "dfa89266-bef6-4c51-b9b6-0ea545a77733",
   "metadata": {},
   "outputs": [
    {
     "data": {
      "text/plain": [
       "[{'name': 'Apple', 'total': 3},\n",
       " {'name': 'Orange', 'total': 2},\n",
       " {'name': 'Lime', 'total': 4}]"
      ]
     },
     "execution_count": 8,
     "metadata": {},
     "output_type": "execute_result"
    }
   ],
   "source": [
    "dataSet"
   ]
  },
  {
   "cell_type": "code",
   "execution_count": 15,
   "id": "1bdde412-9e92-49ca-9571-105733ece294",
   "metadata": {},
   "outputs": [],
   "source": [
    "def count_fruits(dataSet):\n",
    "    totalCount = 0\n",
    "    for fruit in dataSet:\n",
    "        totalCount += fruit.get('total', 0)\n",
    "    return totalCount"
   ]
  },
  {
   "cell_type": "code",
   "execution_count": 16,
   "id": "9512a429-87c8-4bb1-bfe5-80c0666be34b",
   "metadata": {},
   "outputs": [
    {
     "data": {
      "text/plain": [
       "9"
      ]
     },
     "execution_count": 16,
     "metadata": {},
     "output_type": "execute_result"
    }
   ],
   "source": [
    "count_fruits(dataSet)"
   ]
  },
  {
   "cell_type": "markdown",
   "id": "644dda52-5771-40fc-97f8-c8c1183c1b10",
   "metadata": {},
   "source": [
    "### 3. Сумма затрат на рекламу"
   ]
  },
  {
   "cell_type": "code",
   "execution_count": 26,
   "id": "9ff34953-8ce9-4420-a300-a9504cadb45f",
   "metadata": {},
   "outputs": [],
   "source": [
    "expences = [100, 125, -90, 345, 655, -1, 0, 200]"
   ]
  },
  {
   "cell_type": "code",
   "execution_count": 27,
   "id": "e6314082-ee0a-4d61-ad45-fa51fbd3c78a",
   "metadata": {},
   "outputs": [],
   "source": [
    "positive = [x for x in expences if x >= 0]"
   ]
  },
  {
   "cell_type": "code",
   "execution_count": 29,
   "id": "449d4267-3ba8-4f27-b5ef-8f1b6f8dd2d8",
   "metadata": {},
   "outputs": [
    {
     "data": {
      "text/plain": [
       "1334"
      ]
     },
     "execution_count": 29,
     "metadata": {},
     "output_type": "execute_result"
    }
   ],
   "source": [
    "sum(expences)"
   ]
  },
  {
   "cell_type": "code",
   "execution_count": 30,
   "id": "9225e99c-e172-48ac-a625-b33eedad6e9d",
   "metadata": {},
   "outputs": [
    {
     "data": {
      "text/plain": [
       "1425"
      ]
     },
     "execution_count": 30,
     "metadata": {},
     "output_type": "execute_result"
    }
   ],
   "source": [
    "sum(positive)"
   ]
  },
  {
   "cell_type": "markdown",
   "id": "e98d2850-eeb2-4af6-994f-94fe27f2cd5e",
   "metadata": {},
   "source": [
    "### 4. Выручка компании"
   ]
  },
  {
   "cell_type": "markdown",
   "id": "2046e2ed-0628-43f2-9506-db018743237b",
   "metadata": {},
   "source": [
    "#### 4.1 Найдите, какая выручка у компании в ноябре"
   ]
  },
  {
   "cell_type": "code",
   "execution_count": null,
   "id": "7e07214d-be2d-4432-83a5-d47af484e90d",
   "metadata": {},
   "outputs": [],
   "source": []
  }
 ],
 "metadata": {
  "kernelspec": {
   "display_name": "Python 3 (ipykernel)",
   "language": "python",
   "name": "python3"
  },
  "language_info": {
   "codemirror_mode": {
    "name": "ipython",
    "version": 3
   },
   "file_extension": ".py",
   "mimetype": "text/x-python",
   "name": "python",
   "nbconvert_exporter": "python",
   "pygments_lexer": "ipython3",
   "version": "3.10.12"
  }
 },
 "nbformat": 4,
 "nbformat_minor": 5
}
